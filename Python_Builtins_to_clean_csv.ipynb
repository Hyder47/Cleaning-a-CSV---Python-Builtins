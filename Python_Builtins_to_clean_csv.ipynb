{
 "cells": [
  {
   "cell_type": "markdown",
   "metadata": {},
   "source": [
    "### This code is for the formatting of data using the python builtin datatypes and functions which is read from a csv file."
   ]
  },
  {
   "cell_type": "markdown",
   "metadata": {},
   "source": [
    "Importing the <b>csv</b> module, <b>Counter</b> and <b>defaultdict</b> from collections module."
   ]
  },
  {
   "cell_type": "code",
   "execution_count": null,
   "metadata": {},
   "outputs": [],
   "source": [
    "import csv\n",
    "from collections import Counter,defaultdict"
   ]
  },
  {
   "cell_type": "markdown",
   "metadata": {},
   "source": [
    "Reading the csv file using the <b>DictReader</b> method of csv module. This method convert each of the rows in the csv file into an Ordered Dictionary (OrderedDict) object, whose <b>key</b> is the column name and the <b>value</b> is the cell content for the corresponding row.\n",
    "\n",
    "Storing all the OrderedDict objects into a list <b>food</b>."
   ]
  },
  {
   "cell_type": "code",
   "execution_count": null,
   "metadata": {},
   "outputs": [],
   "source": [
    "food = list(csv.DictReader(open('E:\\Personal Projects\\Food_Inspections.csv')))"
   ]
  },
  {
   "cell_type": "markdown",
   "metadata": {},
   "source": [
    "Printing the length of list <b>food<b>."
   ]
  },
  {
   "cell_type": "code",
   "execution_count": null,
   "metadata": {},
   "outputs": [],
   "source": [
    "len(food)"
   ]
  },
  {
   "cell_type": "markdown",
   "metadata": {},
   "source": [
    "Printing the first element stored in list <b>food</b>, indexed at position <b>0</b>."
   ]
  },
  {
   "cell_type": "code",
   "execution_count": null,
   "metadata": {},
   "outputs": [],
   "source": [
    "food[0]"
   ]
  },
  {
   "cell_type": "markdown",
   "metadata": {},
   "source": [
    "Printing the second element stored in list <b>food</b>, indexed at position <b>1</b>."
   ]
  },
  {
   "cell_type": "code",
   "execution_count": null,
   "metadata": {},
   "outputs": [],
   "source": [
    "food[1]"
   ]
  },
  {
   "cell_type": "markdown",
   "metadata": {},
   "source": [
    "Using set comprehension, extracting all the unique values stored in the OrderedDict object within the list <b>food</b> that have <b>Results</b> as their key."
   ]
  },
  {
   "cell_type": "code",
   "execution_count": null,
   "metadata": {},
   "outputs": [],
   "source": [
    "{row['Results'] for row in food}"
   ]
  },
  {
   "cell_type": "markdown",
   "metadata": {},
   "source": [
    "Using list comprehention combined with conditional filtering, extracting values from the OrderedDict objects within the list <b>food</b> which have <b>Results</b> as their key and <b>Fail</b> as the corresponding value.\n",
    "\n",
    "This filtered list is then stored as <b>fail</b>, which also is a list of OrderedDict objects similar to that of list <b>food</b>."
   ]
  },
  {
   "cell_type": "code",
   "execution_count": null,
   "metadata": {},
   "outputs": [],
   "source": [
    "fail = [row for row in food if row['Results'] == 'Fail']"
   ]
  },
  {
   "cell_type": "markdown",
   "metadata": {},
   "source": [
    "Printing the length of list <b>fail</b>."
   ]
  },
  {
   "cell_type": "code",
   "execution_count": null,
   "metadata": {},
   "outputs": [],
   "source": [
    "len(fail)"
   ]
  },
  {
   "cell_type": "markdown",
   "metadata": {},
   "source": [
    "Printing the first elemet stored in list <b>fail</b>, indexed at position <b>0</b>."
   ]
  },
  {
   "cell_type": "code",
   "execution_count": null,
   "metadata": {},
   "outputs": [],
   "source": [
    "fail[0]"
   ]
  },
  {
   "cell_type": "markdown",
   "metadata": {},
   "source": [
    "Using list comprehention, extracting all the values for the key <b>DBA Name</b> from the OrderedDict objects within the list <b>fail</b>. This obtained list is then passed on to the <b>Counter</b> function from collections module which makes a cumulative count of each of the repeated values of <b>DBA Name</b>, if any.\n",
    "\n",
    "The final data stored as <b>worst</b> is a dictionary with key as DBA Name and value as count of the number of occurances for corresponding DBA Name."
   ]
  },
  {
   "cell_type": "code",
   "execution_count": null,
   "metadata": {},
   "outputs": [],
   "source": [
    "worst = Counter(row['DBA Name'] for row in fail)"
   ]
  },
  {
   "cell_type": "markdown",
   "metadata": {},
   "source": [
    "From the dictionary <b>worst</b> getting the names of business and their number of occurances, for the top five records."
   ]
  },
  {
   "cell_type": "code",
   "execution_count": null,
   "metadata": {},
   "outputs": [],
   "source": [
    "worst.most_common(5)"
   ]
  },
  {
   "cell_type": "markdown",
   "metadata": {},
   "source": [
    "From the dictionary <b>worst</b> getting the names of business and their number of occurances, for the top fifteen records."
   ]
  },
  {
   "cell_type": "code",
   "execution_count": null,
   "metadata": {},
   "outputs": [],
   "source": [
    "worst.most_common(15)"
   ]
  },
  {
   "cell_type": "markdown",
   "metadata": {},
   "source": [
    "Manipulating the data in each of the OrderedDict objects inside list <b>fail</b> where the key is <b>DBA Name</b>. This is done by iterating over each of the object in list <b>fail</b>(list comprehention), and then adding a new dictionary into it whose key is <b>DBA Name</b> and its value is the existing value from the key DBA Name with modifications like replacing the single quote(') with blanks and then converting it to uppercase alphabets.\n",
    "\n",
    "As the OrderedDict object cannot have two similar keys in it, the old value for <b>DBA Name</b> gets replaced with the modified value.\n",
    "\n",
    "The list <b>fail</b> is overritten with the modified values for <b>DBA Name</b> in each of the OrderedDict objects inside it."
   ]
  },
  {
   "cell_type": "code",
   "execution_count": null,
   "metadata": {},
   "outputs": [],
   "source": [
    "fail = [ { **row,'DBA Name' : row['DBA Name'].replace(\"'\",'').upper() } for row in fail]"
   ]
  },
  {
   "cell_type": "markdown",
   "metadata": {},
   "source": [
    "Applying Counter function on the modified list <b>fail</b> where the <b>DBA Name</b> value of each element inside the list matches to <b>Fail<b/>."
   ]
  },
  {
   "cell_type": "code",
   "execution_count": null,
   "metadata": {},
   "outputs": [],
   "source": [
    "worst = Counter(row['DBA Name'] for row in fail)"
   ]
  },
  {
   "cell_type": "markdown",
   "metadata": {},
   "source": [
    "From the dictionary <b>worst</b> getting the names of business and their number of occurances, for the top five records."
   ]
  },
  {
   "cell_type": "code",
   "execution_count": null,
   "metadata": {},
   "outputs": [],
   "source": [
    "worst.most_common(5)"
   ]
  },
  {
   "cell_type": "markdown",
   "metadata": {},
   "source": [
    "From the dictionary <b>worst</b> getting the names of business and their number of occurances, for the top twenty records."
   ]
  },
  {
   "cell_type": "code",
   "execution_count": null,
   "metadata": {},
   "outputs": [],
   "source": [
    "worst.most_common(20)"
   ]
  },
  {
   "cell_type": "markdown",
   "metadata": {},
   "source": [
    "Using list comprehention, extracting all the values for the key <b>Address</b> from the OrderedDict objects within the list <b>fail</b>. This obtained list is then passed on to the <b>Counter</b> function from collections module which makes a cumulative count of each of the repeated values of <b>Address</b>, if any.\n",
    "\n",
    "The final data stored as <b>bad</b> is a dictionary with key as Address and value as count of the number of occurances for corresponding Address."
   ]
  },
  {
   "cell_type": "code",
   "execution_count": null,
   "metadata": {},
   "outputs": [],
   "source": [
    "bad = Counter(row['Address'] for row in fail)"
   ]
  },
  {
   "cell_type": "markdown",
   "metadata": {},
   "source": [
    "From the dictionary <b>bad</b> getting the address value and their number of occurances, for the top five records."
   ]
  },
  {
   "cell_type": "code",
   "execution_count": null,
   "metadata": {},
   "outputs": [],
   "source": [
    "bad.most_common(5)"
   ]
  },
  {
   "cell_type": "markdown",
   "metadata": {},
   "source": [
    "Creating a default dictionary of counters, where the values stored in this dictionaty will be of type Counter."
   ]
  },
  {
   "cell_type": "code",
   "execution_count": null,
   "metadata": {},
   "outputs": [],
   "source": [
    "by_year = defaultdict(Counter)"
   ]
  },
  {
   "cell_type": "markdown",
   "metadata": {},
   "source": [
    "Iterating over each of the element in list <b>fail</b> and adding them to the defaultdict <b>by_year</b>, where the key will be the last four digits of the <b>Inspection Date</b> and its value will be the <b>Address</b> value incremented by one for each occurance."
   ]
  },
  {
   "cell_type": "code",
   "execution_count": null,
   "metadata": {},
   "outputs": [],
   "source": [
    "for row in fail:\n",
    "    by_year[row['Inspection Date'][-4:]][row['Address']] += 1"
   ]
  },
  {
   "cell_type": "markdown",
   "metadata": {},
   "source": [
    "Referring the counter object by its key and getting the list of the top 5 most repeated values."
   ]
  },
  {
   "cell_type": "code",
   "execution_count": null,
   "metadata": {},
   "outputs": [],
   "source": [
    "by_year['2015'].most_common(5)"
   ]
  },
  {
   "cell_type": "markdown",
   "metadata": {},
   "source": [
    "Referring the counter object by its key and getting the list of the top 5 most repeated values."
   ]
  },
  {
   "cell_type": "code",
   "execution_count": null,
   "metadata": {},
   "outputs": [],
   "source": [
    "by_year['2014'].most_common(5)"
   ]
  },
  {
   "cell_type": "markdown",
   "metadata": {},
   "source": [
    "Referring the counter object by its key and getting the list of the top 5 most repeated values."
   ]
  },
  {
   "cell_type": "code",
   "execution_count": null,
   "metadata": {},
   "outputs": [],
   "source": [
    "by_year['2013'].most_common(5)"
   ]
  },
  {
   "cell_type": "markdown",
   "metadata": {},
   "source": [
    "Referring the counter object by its key and getting the list of the top 5 most repeated values."
   ]
  },
  {
   "cell_type": "code",
   "execution_count": null,
   "metadata": {},
   "outputs": [],
   "source": [
    "by_year['2016'].most_common(5)"
   ]
  },
  {
   "cell_type": "markdown",
   "metadata": {},
   "source": [
    "From the dictionary <b>bad</b> getting the address value and their number of occurances, for the top five records."
   ]
  },
  {
   "cell_type": "code",
   "execution_count": null,
   "metadata": {},
   "outputs": [],
   "source": [
    "bad.most_common(5)"
   ]
  },
  {
   "cell_type": "markdown",
   "metadata": {},
   "source": [
    "Get the first element at index 0 from the element at index 0.\n",
    "\n",
    "In python _ referres to the most recent reference value, which in this case is bad.most_common(5)."
   ]
  },
  {
   "cell_type": "code",
   "execution_count": null,
   "metadata": {},
   "outputs": [],
   "source": [
    "_[0][0]"
   ]
  },
  {
   "cell_type": "markdown",
   "metadata": {},
   "source": [
    "Get the identity of the object _."
   ]
  },
  {
   "cell_type": "code",
   "execution_count": null,
   "metadata": {},
   "outputs": [],
   "source": [
    "id(_)"
   ]
  },
  {
   "cell_type": "markdown",
   "metadata": {},
   "source": [
    "Using list comprehention combined with conditional filtering, extracting values from the OrderedDict objects within the list <b>fail</b> which have <b>Address</b> as their key and the corresponding value staring with <b>11601 W TOUHY</b>.\n",
    "\n",
    "This filtered list is then referred as <b>ohare</b>, which also is a list of OrderedDict objects."
   ]
  },
  {
   "cell_type": "code",
   "execution_count": null,
   "metadata": {},
   "outputs": [],
   "source": [
    "ohare = [row for row in fail if row['Address'].startswith('11601 W TOUHY')]"
   ]
  },
  {
   "cell_type": "markdown",
   "metadata": {},
   "source": [
    "Printing the length of list <b>ohare</b>."
   ]
  },
  {
   "cell_type": "code",
   "execution_count": null,
   "metadata": {},
   "outputs": [],
   "source": [
    "len(ohare)"
   ]
  },
  {
   "cell_type": "markdown",
   "metadata": {},
   "source": [
    "Set comprehension of list <b>ohare</b> to obtain unique values of <b>Address</b> key."
   ]
  },
  {
   "cell_type": "code",
   "execution_count": null,
   "metadata": {},
   "outputs": [],
   "source": [
    "{row['Address'] for row in ohare}"
   ]
  },
  {
   "cell_type": "markdown",
   "metadata": {},
   "source": [
    "Set comprehension of list <b>ohare</b> to obtain unique values of <b>DBA Name</b> key."
   ]
  },
  {
   "cell_type": "code",
   "execution_count": null,
   "metadata": {},
   "outputs": [],
   "source": [
    "{row['DBA Name'] for row in ohare}"
   ]
  },
  {
   "cell_type": "markdown",
   "metadata": {},
   "source": [
    "Printing the first element stored in list <b>ohare</b>, indexed at position <b>0</b>."
   ]
  },
  {
   "cell_type": "code",
   "execution_count": null,
   "metadata": {},
   "outputs": [],
   "source": [
    "ohare[0]"
   ]
  },
  {
   "cell_type": "markdown",
   "metadata": {},
   "source": [
    "Using list comprehension, extracting all the values for the key <b>AKA Name</b> from the OrderedDict objects within the list <b>ohare</b>. This obtained list is then passed on to the <b>Counter</b> function from collections module which makes a cumulative count of each of the repeated values of <b>AKA Name</b>, if any.\n",
    "\n",
    "The final data stored as <b>c</b> is a dictionary with key as AKA Name and value as count of the number of occurances for corresponding AKA Name."
   ]
  },
  {
   "cell_type": "code",
   "execution_count": null,
   "metadata": {},
   "outputs": [],
   "source": [
    "c = Counter(row['AKA Name'] for row in ohare)"
   ]
  },
  {
   "cell_type": "markdown",
   "metadata": {},
   "source": [
    "From the dictionary <b>c</b> getting the names of business and their number of occurances, for the top ten records."
   ]
  },
  {
   "cell_type": "code",
   "execution_count": null,
   "metadata": {},
   "outputs": [],
   "source": [
    "c.most_common(10)"
   ]
  },
  {
   "cell_type": "markdown",
   "metadata": {},
   "source": [
    "Creating a default dictionary of lists, where the values stored in this dictionaty will be of type list."
   ]
  },
  {
   "cell_type": "code",
   "execution_count": null,
   "metadata": {},
   "outputs": [],
   "source": [
    "inspections = defaultdict(list)"
   ]
  },
  {
   "cell_type": "markdown",
   "metadata": {},
   "source": [
    "Iterating over each of the element in list <b>ohare</b> and adding them to the defaultdict <b>inspections</b>, where the key will be the <b>License #</b> and its value will be the OrderedDict object."
   ]
  },
  {
   "cell_type": "code",
   "execution_count": null,
   "metadata": {},
   "outputs": [],
   "source": [
    "for row in ohare:\n",
    "    inspections[row['License #']].append(row)"
   ]
  },
  {
   "cell_type": "markdown",
   "metadata": {},
   "source": [
    "Referring to particular element stored in <b>inspections</b> by its key."
   ]
  },
  {
   "cell_type": "code",
   "execution_count": null,
   "metadata": {},
   "outputs": [],
   "source": [
    "inspections['2428080']"
   ]
  },
  {
   "cell_type": "markdown",
   "metadata": {},
   "source": [
    "Getting all the keys present in <b>inspections</b>."
   ]
  },
  {
   "cell_type": "code",
   "execution_count": null,
   "metadata": {},
   "outputs": [],
   "source": [
    "inspections.keys()"
   ]
  },
  {
   "cell_type": "markdown",
   "metadata": {},
   "source": [
    "Get the values for <b>Inspection Date</b> for any particular key from <b>inspections</b> using set comprehension."
   ]
  },
  {
   "cell_type": "code",
   "execution_count": null,
   "metadata": {},
   "outputs": [],
   "source": [
    "[row['Inspection Date'] for row in inspections['34211']]"
   ]
  },
  {
   "cell_type": "markdown",
   "metadata": {},
   "source": [
    "From the second element in the list <b>ohare</b>, get the value for key <b>Violations</b> and split them on <b>|</b> symbol."
   ]
  },
  {
   "cell_type": "code",
   "execution_count": null,
   "metadata": {},
   "outputs": [],
   "source": [
    "ohare[1]['Violations'].split('|')"
   ]
  },
  {
   "cell_type": "markdown",
   "metadata": {},
   "source": [
    "Renaming the results from the cell above as <b>violations</b>."
   ]
  },
  {
   "cell_type": "code",
   "execution_count": null,
   "metadata": {},
   "outputs": [],
   "source": [
    "violations = _"
   ]
  },
  {
   "cell_type": "markdown",
   "metadata": {},
   "source": [
    "Extracting the string values from each element in list <b>violations</b> sliced upto the the index of <b>- Comments</b> from the beginning, using list comprehension."
   ]
  },
  {
   "cell_type": "code",
   "execution_count": null,
   "metadata": {},
   "outputs": [],
   "source": [
    "[v[:v.find('- Comments')] for v in violations]"
   ]
  },
  {
   "cell_type": "markdown",
   "metadata": {},
   "source": [
    "Extracting the string values from each element in list <b>violations</b> sliced upto the the index of <b>- Comments</b> from the beginning and removing any whitespace from the start and end of the sliced string, using list comprehension."
   ]
  },
  {
   "cell_type": "code",
   "execution_count": null,
   "metadata": {},
   "outputs": [],
   "source": [
    "[v[:v.find('- Comments')].strip() for v in violations]"
   ]
  },
  {
   "cell_type": "markdown",
   "metadata": {},
   "source": [
    "From the list <b>ohare</b> extracting values for <b>Violations</b> and split then on <b>|</b> symbol, using list comprehension. Store this data into <b>all_violations</b> list."
   ]
  },
  {
   "cell_type": "code",
   "execution_count": null,
   "metadata": {},
   "outputs": [],
   "source": [
    "all_violations = [row['Violations'].split('|') for row in ohare ]"
   ]
  },
  {
   "cell_type": "markdown",
   "metadata": {},
   "source": [
    "Create a new Counter object."
   ]
  },
  {
   "cell_type": "code",
   "execution_count": null,
   "metadata": {},
   "outputs": [],
   "source": [
    "c = Counter()"
   ]
  },
  {
   "cell_type": "markdown",
   "metadata": {},
   "source": [
    "Iterate over each elemet in <b>all_violations</b>, for each string in <b>all_violations</b> iterate over it. Slice the obtained value from the beginning till the index of <b>- Comments</b> and strip it off any leading and trailing whitespaces. Increment this value by one each time if any dublicate value is found."
   ]
  },
  {
   "cell_type": "code",
   "execution_count": null,
   "metadata": {},
   "outputs": [],
   "source": [
    "for violations in all_violations:\n",
    "    for v in violations:\n",
    "        c[v[:v.find('- Comments')].strip()] += 1\n",
    "    "
   ]
  },
  {
   "cell_type": "markdown",
   "metadata": {},
   "source": [
    "From the dictionary <b>c</b> getting the comments and their number of occurances, for the top five records."
   ]
  },
  {
   "cell_type": "code",
   "execution_count": null,
   "metadata": {},
   "outputs": [],
   "source": [
    "c.most_common(5)"
   ]
  }
 ],
 "metadata": {
  "kernelspec": {
   "display_name": "Python 3",
   "language": "python",
   "name": "python3"
  },
  "language_info": {
   "codemirror_mode": {
    "name": "ipython",
    "version": 3
   },
   "file_extension": ".py",
   "mimetype": "text/x-python",
   "name": "python",
   "nbconvert_exporter": "python",
   "pygments_lexer": "ipython3",
   "version": "3.7.4"
  }
 },
 "nbformat": 4,
 "nbformat_minor": 2
}
